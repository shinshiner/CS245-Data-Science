{
 "cells": [
  {
   "cell_type": "markdown",
   "metadata": {},
   "source": [
    "# 数据科学大作业"
   ]
  },
  {
   "cell_type": "code",
   "execution_count": 3,
   "metadata": {},
   "outputs": [],
   "source": [
    "import numpy as np\n",
    "import pandas as pd\n",
    "\n",
    "np.random.seed(666)"
   ]
  },
  {
   "cell_type": "markdown",
   "metadata": {},
   "source": [
    "## 1. 读取数据 & 数据清理"
   ]
  },
  {
   "cell_type": "code",
   "execution_count": 13,
   "metadata": {
    "scrolled": true
   },
   "outputs": [
    {
     "name": "stdout",
     "output_type": "stream",
     "text": [
      "       age work_class  fnlwgt   education  education_num       marital_status  \\\n",
      "42891   24    Private  269799   Assoc-voc             11        Never-married   \n",
      "3118    35          ?  169809   Bachelors             13   Married-civ-spouse   \n",
      "42443   51    Private  257126        10th              6   Married-civ-spouse   \n",
      "27124   72    Private  107814     Masters             14        Never-married   \n",
      "15294   33    Private  205950     HS-grad              9        Never-married   \n",
      "\n",
      "             occupation    relationship    race    sex  capital_gain  \\\n",
      "42891   Exec-managerial   Not-in-family   White   Male             0   \n",
      "3118                  ?         Husband   White   Male             0   \n",
      "42443      Craft-repair         Husband   White   Male             0   \n",
      "27124    Prof-specialty   Not-in-family   White   Male          2329   \n",
      "15294     Other-service       Own-child   White   Male             0   \n",
      "\n",
      "       capital_loss  hours_per_week  native_country   income  \n",
      "42891             0              40   United-States   <=50K.  \n",
      "3118              0              20   United-States    <=50K  \n",
      "42443             0              40   United-States   <=50K.  \n",
      "27124             0              60   United-States    <=50K  \n",
      "15294             0              40   United-States    <=50K  \n"
     ]
    }
   ],
   "source": [
    "df = pd.read_csv('adult.csv', na_values=['NaN'])\n",
    "df.columns = [\n",
    "    \"age\", \"work_class\", \"fnlwgt\", \"education\", \"education_num\",\n",
    "    \"marital_status\", \"occupation\", \"relationship\", \"race\", \"sex\",\n",
    "    \"capital_gain\", \"capital_loss\", \"hours_per_week\", \"native_country\", \"income\"\n",
    "]\n",
    "print(df.sample(5))"
   ]
  },
  {
   "cell_type": "code",
   "execution_count": null,
   "metadata": {},
   "outputs": [],
   "source": []
  },
  {
   "cell_type": "code",
   "execution_count": null,
   "metadata": {},
   "outputs": [],
   "source": []
  }
 ],
 "metadata": {
  "kernelspec": {
   "display_name": "Python 3",
   "language": "python",
   "name": "python3"
  },
  "language_info": {
   "codemirror_mode": {
    "name": "ipython",
    "version": 3
   },
   "file_extension": ".py",
   "mimetype": "text/x-python",
   "name": "python",
   "nbconvert_exporter": "python",
   "pygments_lexer": "ipython3",
   "version": "3.5.4"
  }
 },
 "nbformat": 4,
 "nbformat_minor": 2
}
