{
 "cells": [
  {
   "cell_type": "markdown",
   "metadata": {},
   "source": [
    "# 数据科学大作业"
   ]
  },
  {
   "cell_type": "code",
   "execution_count": 47,
   "metadata": {},
   "outputs": [],
   "source": [
    "import numpy as np\n",
    "import pandas as pd\n",
    "import random\n",
    "\n",
    "np.random.seed(666)"
   ]
  },
  {
   "cell_type": "markdown",
   "metadata": {},
   "source": [
    "## 1. 读取数据 & 数据清理"
   ]
  },
  {
   "cell_type": "markdown",
   "metadata": {},
   "source": [
    "### 数据读取"
   ]
  },
  {
   "cell_type": "code",
   "execution_count": 3,
   "metadata": {
    "scrolled": true
   },
   "outputs": [
    {
     "name": "stdout",
     "output_type": "stream",
     "text": [
      "       age work_class  fnlwgt      education  education_num  marital_status  \\\n",
      "37391   36    Private  228652   Some-college             10        Divorced   \n",
      "23684   24    Private  249046      Bachelors             13   Never-married   \n",
      "47602   55    Private  173832        Masters             14        Divorced   \n",
      "3192    71    Private  157909   Some-college             10   Never-married   \n",
      "22276   39    Private   98776   Some-college             10        Divorced   \n",
      "\n",
      "               occupation    relationship    race      sex  capital_gain  \\\n",
      "37391   Machine-op-inspct       Own-child   Other     Male             0   \n",
      "23684        Tech-support       Own-child   White     Male             0   \n",
      "47602               Sales   Not-in-family   White     Male         10520   \n",
      "3192        Other-service   Not-in-family   White   Female          2964   \n",
      "22276     Exec-managerial   Not-in-family   White     Male             0   \n",
      "\n",
      "       capital_loss  hours_per_week  native_country   income  \n",
      "37391             0              40          Mexico   <=50K.  \n",
      "23684             0              40   United-States    <=50K  \n",
      "47602             0              40   United-States    >50K.  \n",
      "3192              0              60   United-States    <=50K  \n",
      "22276             0              50   United-States     >50K  \n"
     ]
    }
   ],
   "source": [
    "df = pd.read_csv('adult.txt')\n",
    "df.columns = [\n",
    "    \"age\", \"work_class\", \"fnlwgt\", \"education\", \"education_num\",\n",
    "    \"marital_status\", \"occupation\", \"relationship\", \"race\", \"sex\",\n",
    "    \"capital_gain\", \"capital_loss\", \"hours_per_week\", \"native_country\", \"income\"\n",
    "]\n",
    "print(df.sample(5, random_state=666))"
   ]
  },
  {
   "cell_type": "markdown",
   "metadata": {},
   "source": [
    "### 数据清理"
   ]
  },
  {
   "cell_type": "code",
   "execution_count": 54,
   "metadata": {},
   "outputs": [
    {
     "name": "stdout",
     "output_type": "stream",
     "text": [
      "[0, 821, 2753, 46, 0]\n",
      "3620\n"
     ]
    }
   ],
   "source": [
    "with open('adult.txt', 'r') as f:\n",
    "    raw_data = f.readlines()[1:]\n",
    "    data = []\n",
    "\n",
    "    for line in raw_data:\n",
    "        line = line.strip().rstrip(',')\n",
    "        data.append(line.split(', '))\n",
    "\n",
    "#print(random.sample(data, 100))\n",
    "miss = [0] * 5\n",
    "del_list = []\n",
    "for i, d in enumerate(data):\n",
    "    nan = d.count('?')\n",
    "    if nan > 0:\n",
    "        del_list.append(i)\n",
    "        miss[nan] += 1\n",
    "\n",
    "print(miss)\n",
    "print(len(del_list))"
   ]
  },
  {
   "cell_type": "code",
   "execution_count": 56,
   "metadata": {},
   "outputs": [
    {
     "name": "stdout",
     "output_type": "stream",
     "text": [
      "45222\n"
     ]
    }
   ],
   "source": [
    "real_data = []\n",
    "for i, d in enumerate(data):\n",
    "    if not i in del_list:\n",
    "        real_data.append(d)\n",
    "    \n",
    "print(len(real_data))\n",
    "# for i, d in enumerate(real_data):\n",
    "#     nan = d.count('?')\n",
    "#     if nan > 0:\n",
    "#         print(d)"
   ]
  },
  {
   "cell_type": "code",
   "execution_count": null,
   "metadata": {},
   "outputs": [],
   "source": []
  }
 ],
 "metadata": {
  "kernelspec": {
   "display_name": "Python 3",
   "language": "python",
   "name": "python3"
  },
  "language_info": {
   "codemirror_mode": {
    "name": "ipython",
    "version": 3
   },
   "file_extension": ".py",
   "mimetype": "text/x-python",
   "name": "python",
   "nbconvert_exporter": "python",
   "pygments_lexer": "ipython3",
   "version": "3.5.4"
  }
 },
 "nbformat": 4,
 "nbformat_minor": 2
}
